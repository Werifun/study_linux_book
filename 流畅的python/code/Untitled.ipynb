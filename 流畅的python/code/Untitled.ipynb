{
 "cells": [
  {
   "cell_type": "code",
   "execution_count": 7,
   "metadata": {},
   "outputs": [],
   "source": [
    "class Solution:\n",
    "    def lengthOfLongestSubstring(self, s: str) -> int:\n",
    "        word_set = set()\n",
    "\n",
    "        word_list = []\n",
    "        max_len = 0\n",
    "        for word in s:\n",
    "            print(word, word_list)\n",
    "            \n",
    "            while word in word_list:\n",
    "                word_list.pop(0)\n",
    "                print(word_list)\n",
    "            word_list.append(word)\n",
    "            max_len = max(max_len, len(word_list))\n",
    "\n",
    "        return max_len\n"
   ]
  },
  {
   "cell_type": "code",
   "execution_count": 8,
   "metadata": {},
   "outputs": [
    {
     "name": "stdout",
     "output_type": "stream",
     "text": [
      "a []\n",
      "b ['a']\n",
      "c ['a', 'b']\n",
      "a ['a', 'b', 'c']\n",
      "['b', 'c']\n",
      "b ['b', 'c', 'a']\n",
      "['c', 'a']\n",
      "c ['c', 'a', 'b']\n",
      "['a', 'b']\n",
      "b ['a', 'b', 'c']\n",
      "['b', 'c']\n",
      "['c']\n",
      "b ['c', 'b']\n",
      "['b']\n",
      "[]\n"
     ]
    },
    {
     "data": {
      "text/plain": [
       "3"
      ]
     },
     "execution_count": 8,
     "metadata": {},
     "output_type": "execute_result"
    }
   ],
   "source": [
    "s = Solution()\n",
    "s.lengthOfLongestSubstring(\"abcabcbb\")"
   ]
  },
  {
   "cell_type": "code",
   "execution_count": null,
   "metadata": {},
   "outputs": [],
   "source": []
  }
 ],
 "metadata": {
  "kernelspec": {
   "display_name": "Python 3",
   "language": "python",
   "name": "python3"
  },
  "language_info": {
   "codemirror_mode": {
    "name": "ipython",
    "version": 3
   },
   "file_extension": ".py",
   "mimetype": "text/x-python",
   "name": "python",
   "nbconvert_exporter": "python",
   "pygments_lexer": "ipython3",
   "version": "3.7.1"
  }
 },
 "nbformat": 4,
 "nbformat_minor": 2
}
